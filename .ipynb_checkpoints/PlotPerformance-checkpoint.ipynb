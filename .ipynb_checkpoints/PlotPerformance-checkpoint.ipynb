{
 "cells": [
  {
   "cell_type": "code",
   "execution_count": 6,
   "metadata": {
    "button": false,
    "collapsed": true,
    "deletable": true,
    "new_sheet": false,
    "run_control": {
     "read_only": false
    }
   },
   "outputs": [],
   "source": [
    "retina_width_options = [1, 2, 4, 8, 16, 32]\n",
    "vvs_layers_options = [0, 1, 2, 3, 4]\n",
    "num_trials = 10"
   ]
  },
  {
   "cell_type": "code",
   "execution_count": 1,
   "metadata": {
    "button": false,
    "collapsed": false,
    "deletable": true,
    "new_sheet": false,
    "run_control": {
     "read_only": false
    }
   },
   "outputs": [
    {
     "name": "stdout",
     "output_type": "stream",
     "text": [
      "Trial  1 VVS Layers  0 Retina Out Width  1\n",
      "Trial  1 VVS Layers  0 Retina Out Width  32\n",
      "Trial  1 VVS Layers  2 Retina Out Width  1\n",
      "Trial  1 VVS Layers  2 Retina Out Width  32\n",
      "Trial  1 VVS Layers  4 Retina Out Width  1\n",
      "Trial  1 VVS Layers  4 Retina Out Width  32\n",
      "Trial  2 VVS Layers  0 Retina Out Width  1\n",
      "Trial  2 VVS Layers  0 Retina Out Width  32\n",
      "Trial  2 VVS Layers  2 Retina Out Width  1\n",
      "Trial  2 VVS Layers  2 Retina Out Width  32\n",
      "Trial  2 VVS Layers  4 Retina Out Width  1\n",
      "Trial  2 VVS Layers  4 Retina Out Width  32\n"
     ]
    }
   ],
   "source": [
    "import os\n",
    "\n",
    "for trial in range(1, 3):\n",
    "    trial_label = 'Trial'+str(trial)\n",
    "    for vvs_layers in [0, 2, 4]:\n",
    "        for retina_out_width in [1, 32]:\n",
    "            print('Trial ', trial, 'VVS Layers ', vvs_layers, 'Retina Out Width ', retina_out_width)\n",
    "            os.system('python3 TrainModel.py --trial_label '+trial_label+' --vvs_layers '+str(vvs_layers)+' --retina_out_width '+str(retina_out_width))"
   ]
  },
  {
   "cell_type": "code",
   "execution_count": 13,
   "metadata": {
    "button": false,
    "collapsed": false,
    "deletable": true,
    "new_sheet": false,
    "run_control": {
     "read_only": false
    }
   },
   "outputs": [
    {
     "name": "stdout",
     "output_type": "stream",
     "text": [
      "[0.4855, 0.4941]\n",
      "[0.7168, 0.7144]\n",
      "[0.7483, 0.7532]\n",
      "[0.708, 0.7064]\n",
      "[0.7694, 0.7649]\n",
      "[0.767, 0.7558]\n"
     ]
    },
    {
     "data": {
      "image/png": "[encoded data removed]",
      "text/plain": [
       "<matplotlib.figure.Figure at 0x7f1432844550>"
      ]
     },
     "metadata": {},
     "output_type": "display_data"
    }
   ],
   "source": [
    "import numpy as np\n",
    "import matplotlib.pyplot as plt\n",
    "\n",
    "plot_line_format_list = []\n",
    "plot_line_format_list.append(('k', '-'))\n",
    "plot_line_format_list.append(([.5, .5, .5], '--'))\n",
    "\n",
    "dict = {}\n",
    "dict_err = {}\n",
    "\n",
    "cur_format = -1\n",
    "\n",
    "for retina_out_width in retina_width_options:\n",
    "    cur_format += 1\n",
    "    dict[retina_out_width] = []\n",
    "    dict_err[retina_out_width] = []\n",
    "\n",
    "    for vvs_layers in vvs_layers_options:\n",
    "        trials = []\n",
    "        for trial in range(1, num_trials+1):\n",
    "            trial_label = 'Trial'+str(trial)\n",
    "            val_acc = np.load('Logs/SAVED_cifar10_type_'+trial_label+'_noise_start_'+str(0.0)+'_noise_end_'+str(0.0)+'_reg_'+str(0.0)+'_retina_reg_'+str(0.0)+'_retina_hidden_channels_'+str(32)+'_SS_'+str(1)+'_task_'+'classification'+'_filter_size_'+str(9)+'_retina_layers_'+str(2)+'_vvs_layers'+str(vvs_layers)+'_bias_'+str(1)+'_actreg_'+str(0.0)+'_retina_out_channels_'+str(retina_out_width)+'_vvs_width_'+str(32)+'_epochs_'+str(20)+'_VALACC.npy')[-1]\n",
    "            trials.append(val_acc)\n",
    "\n",
    "        dict[retina_out_width].append(np.mean(trials))\n",
    "        dict_err[retina_out_width].append(np.std(trials))\n",
    "        print(trials)\n",
    "\n",
    "plt.figure(figsize=(4, 8))\n",
    "for retina_out_width in retina_width_options:\n",
    "    if retina_out_width == 1:\n",
    "        plt.errorbar(range(len(vvs_layers_options)), dict[retina_out_width], dict_err[retina_out_width], c='k', marker='o')\n",
    "    elif retina_out_width == 32:\n",
    "        plt.errorbar(range(len(vvs_layers_options)), dict[retina_out_width], dict_err[retina_out_width], c='gray', marker='o')\n",
    "    else:\n",
    "        plt.errorbar(range(len(vvs_layers_options)), dict[retina_out_width], dict_err[retina_out_width], marker='o')\n",
    "\n",
    "\n",
    "plt.legend([str(w)+' retina output channels' for w in retina_width_options])\n",
    "plt.xlabel('VVS-net Layers')\n",
    "plt.ylabel('Cifar-10 Test Set Performance')\n",
    "plt.xticks(range(len(vvs_layers_options)), vvs_layers_options)\n",
    "\n",
    "plt.show()\n",
    "\n"
   ]
  },
  {
   "cell_type": "code",
   "execution_count": null,
   "metadata": {
    "button": false,
    "collapsed": true,
    "deletable": true,
    "new_sheet": false,
    "run_control": {
     "read_only": false
    }
   },
   "outputs": [],
   "source": []
  }
 ],
 "metadata": {
  "kernelspec": {
   "display_name": "Python 3",
   "language": "python",
   "name": "python3"
  },
  "language_info": {
   "codemirror_mode": {
    "name": "ipython",
    "version": 3
   },
   "file_extension": ".py",
   "mimetype": "text/x-python",
   "name": "python",
   "nbconvert_exporter": "python",
   "pygments_lexer": "ipython3",
   "version": "3.5.0"
  }
 },
 "nbformat": 4,
 "nbformat_minor": 2
}
